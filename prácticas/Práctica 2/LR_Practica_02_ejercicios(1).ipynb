{
 "cells": [
  {
   "cell_type": "markdown",
   "metadata": {},
   "source": [
    "# Practical Session 2: Introduction to Python\n",
    "\n",
    "## Laboratorio de Robótica \n",
    "### Grado en Ingeniería Electrónica, Mecatrónica y Robótica\n",
    "### Universidad de Sevilla"
   ]
  },
  {
   "cell_type": "markdown",
   "metadata": {},
   "source": [
    "## Objectives\n",
    "\n",
    "The objective of this notebook is to propose some exercises to practise with Python and get familiar with data types, loops, functions, classes, and so on.\n",
    "\n",
    "After completing the missing code in this notebook, export it as a Python script. You can do that both using Jupyther Notebook or through the Jupyter extension in VS Code. Then name your file `exercises_sol.py` and commit it to your course Github repository, into a folder named `python_exercises`."
   ]
  },
  {
   "cell_type": "markdown",
   "metadata": {},
   "source": [
    "### Exercise 1\n",
    "\n",
    "Define a function called `squares` that, given a list `sec` of numbers, returns a list with the squares of those numbers, in the same order."
   ]
  },
  {
   "cell_type": "raw",
   "metadata": {
    "vscode": {
     "languageId": "raw"
    }
   },
   "source": [
    "# Examples:\n",
    "\n",
    "# squares([2, -1.2, 3e2, 1j]) should return [4, 1.44, 90000.0, (-1+0j)]\n",
    "# squares([i for i in range(10)]) should return [0, 1, 4, 9, 16, 25, 36, 49, 64, 81]"
   ]
  },
  {
   "cell_type": "code",
   "execution_count": 12,
   "metadata": {},
   "outputs": [
    {
     "name": "stdout",
     "output_type": "stream",
     "text": [
      "[4, 1.44, 90000.0, (-1+0j)]\n"
     ]
    }
   ],
   "source": [
    "\n",
    "def squares(k):\n",
    "    v=[]\n",
    "    for x in k:\n",
    "        v.append(x**2)\n",
    "    return(v)\n",
    "print(squares([2, -1.2, 3e2, 1j]))\n",
    "    "
   ]
  },
  {
   "cell_type": "code",
   "execution_count": 14,
   "metadata": {},
   "outputs": [
    {
     "name": "stdout",
     "output_type": "stream",
     "text": [
      "[0, 1, 4, 9, 16, 25, 36, 49, 64, 81]\n"
     ]
    }
   ],
   "source": [
    "def squares(k):\n",
    "    v=[]\n",
    "    for x in k:\n",
    "        v.append(x**2)\n",
    "    return(v)\n",
    "print(squares([i for i in range(10)]))"
   ]
  },
  {
   "cell_type": "markdown",
   "metadata": {},
   "source": [
    "### Exercise 2\n",
    "\n",
    "A positive integer is said to be perfect if it coincides with the sum of all its proper divisors (that is, other than itself). Define a function called `write_perfect` that, given two positive integers `m` $\\leq$ `n`, returns a list with all the perfect numbers within the interval `[m, n]`. The function should also print on the screen each perfect number and its divisors. "
   ]
  },
  {
   "cell_type": "raw",
   "metadata": {
    "vscode": {
     "languageId": "raw"
    }
   },
   "source": [
    "# Examples:\n",
    "\n",
    "# write_perfect(1, 1000) should write on screen:\n",
    "# Number 6 is perfect and its divisors are [1, 2, 3]\n",
    "# Number 28 is perfect and its divisors are [1, 2, 4, 7, 14]\n",
    "# Number 496 is perfect and its divisors are [1, 2, 4, 8, 16, 31, 62, 124, 248]"
   ]
  },
  {
   "cell_type": "code",
   "execution_count": 25,
   "metadata": {
    "tags": []
   },
   "outputs": [
    {
     "name": "stdout",
     "output_type": "stream",
     "text": [
      "Number 6 is perfect and its divisors are [1, 2, 3]\n",
      "Number 28 is perfect and its divisors are [1, 2, 4, 7, 14]\n",
      "Number 496 is perfect and its divisors are [1, 2, 4, 8, 16, 31, 62, 124, 248]\n"
     ]
    }
   ],
   "source": [
    "def write_perfect(m,n):\n",
    "    perfectos=[]\n",
    "    for x in range(m,n):\n",
    "        divisores=[]\n",
    "        suma=0\n",
    "        for d in range (1, x):\n",
    "            if x%d==0:\n",
    "                divisores.append(d)\n",
    "                suma += d\n",
    "        if suma==x:\n",
    "            perfectos.append((x,divisores))\n",
    "    return  perfectos\n",
    "resultado=write_perfect(1,1000)\n",
    "for num,divs in resultado:   \n",
    "    print(f\"Number {num} is perfect and its divisors are {divs}\")"
   ]
  },
  {
   "cell_type": "markdown",
   "metadata": {},
   "source": [
    "### Exercise 3\n",
    "\n",
    "Consider a dictionary whose keys are character strings of length one and the associated values ​​are non-negative integers, such as the following dictionary `d`:"
   ]
  },
  {
   "cell_type": "code",
   "execution_count": 3,
   "metadata": {
    "tags": []
   },
   "outputs": [],
   "source": [
    "d = {'a': 5, 'b': 10, 'c': 12, 'd': 11, 'e': 15, 'f': 20, 'g': 15, 'h': 9, 'i': 7, 'j': 2}"
   ]
  },
  {
   "cell_type": "markdown",
   "metadata": {},
   "source": [
    "Define a function called `horizontal_histogram` that, given a dictionary of the previous type, writes the associated histogram of horizontal bars on the screen, printing the bars from top to bottom in the order determined by the `sorted` function on the keys, as illustrated in the following example:"
   ]
  },
  {
   "cell_type": "raw",
   "metadata": {
    "vscode": {
     "languageId": "raw"
    }
   },
   "source": [
    "# horizontal_histogram(d)\n",
    "# a: *****\n",
    "# b: **********\n",
    "# c: ************\n",
    "# d: ***********\n",
    "# e: ***************\n",
    "# f: ********************\n",
    "# g: ***************\n",
    "# h: *********\n",
    "# i: *******\n",
    "# j: **"
   ]
  },
  {
   "cell_type": "code",
   "execution_count": 28,
   "metadata": {
    "tags": []
   },
   "outputs": [
    {
     "name": "stdout",
     "output_type": "stream",
     "text": [
      "a: *****\n",
      "b: **********\n",
      "c: ************\n",
      "d: ***********\n",
      "e: ***************\n",
      "f: ********************\n",
      "g: ***************\n",
      "h: *********\n",
      "i: *******\n",
      "j: **\n"
     ]
    }
   ],
   "source": [
    "dict_tel={'a': 5, 'b': 10, 'c': 12, 'd': 11, 'e': 15, 'f': 20, 'g': 15, 'h': 9, 'i': 7, 'j': 2}\n",
    "def horizontal_histogram(d):\n",
    "    asterisco=[]\n",
    "    for l,n in dict_tel.items():\n",
    "        asterisco.append((l,'*'*n))\n",
    "    return asterisco\n",
    "resultado=horizontal_histogram(dict_tel) \n",
    "for letra,ast in resultado:\n",
    "    print(f\"{letra}: {ast}\")\n",
    "\n",
    "            \n",
    "    "
   ]
  },
  {
   "cell_type": "markdown",
   "metadata": {},
   "source": [
    "### Exercise 4\n",
    "\n",
    "Suppose we want to simulate the trajectory of a drone that is launched at a given point with a certain initial height. The drone is launched forward with an initial speed and at a certain angle without propulsion motors on. Initially it will advance upwards, but due to the force of gravity, at a given moment it will begin to descend until it lands. For simplicity, we will assume that there is no friction or wind resistance.\n",
    "\n",
    "Define a class `Drone` that represents the state of the drone at a given instant of time. At least, the class should include attributes to store the following data:\n",
    "+ Traveled distance traveled (horizontally)\n",
    "+ Height\n",
    "+ Horizontal speed\n",
    "+ Vertical speed\n",
    "\n",
    "In addition, apart from its constructor, the class should have the following three methods:\n",
    "+ `get_pos_x`: it returns the horizontal traveled distance \n",
    "+ `get_pos_y`: it returns the vertical traveled distance \n",
    "+ `update_position`: given a number `t` of seconds, it updates the position and velocity of the projectile after that time has elapsed\n",
    "\n",
    "Once the `Drone` class is defined, define an external function called `land` that, given the `height` (meters), `velocity` (meters per second), `angle` (degrees) and time `step` (seconds), prints on the screen the different positions of a drone launched with that initial `height`, `velocity` and `angle`. The position of the drone should be displayed at each `step` of time, until it lands. The function should also print the maximum height reached by the drone, the total distance traveled horizontally and the time and number of steps that it took it to land.\n",
    "\n",
    "Indications:\n",
    "1. If the drone has an initial velocity $v$ and is launched at an angle $\\theta$, the horizontal and vertical components of the initial velocity are $v \\times \\cos(\\theta)$ and $v \\times \\ sin(\\theta)$, respectively.\n",
    "2. The horizontal component of velocity, in the absence of friction and wind, will remain constant.\n",
    "3. The vertical component of the velocity evolves throughout time: if $vy_0$ is the initial vertical velocity, after a time step $t$, the velocity will be $vy_1 = vy_0 - 9.8 \\times t$, due to the Earth's gravity.\n",
    "4. Also, if $h_0$ is the initial drone height, after a time step $t$, the height will be $h_1 = h_0 + vm \\times t$, where $vm$ is the average between the previous $vy_0$ and $vy_1$."
   ]
  },
  {
   "cell_type": "raw",
   "metadata": {
    "vscode": {
     "languageId": "raw"
    }
   },
   "source": [
    "# Example:\n",
    "\n",
    "# land(30, 1, 20, 0.1)\n",
    "# Drone at position(0.0, 30.0)\n",
    "# Drone at position(0.1, 30.0)\n",
    "# Drone at position(0.2, 29.9)\n",
    "# Drone at position(0.3, 29.7)\n",
    "# Drone at position(0.4, 29.4)\n",
    "# Drone at position(0.5, 28.9)\n",
    "# Drone at position(0.6, 28.4)\n",
    "# Drone at position(0.7, 27.8)\n",
    "# Drone at position(0.8, 27.1)\n",
    "# Drone at position(0.8, 26.3)\n",
    "# Drone at position(0.9, 25.4)\n",
    "# Drone at position(1.0, 24.4)\n",
    "# Drone at position(1.1, 23.4)\n",
    "# Drone at position(1.2, 22.2)\n",
    "# Drone at position(1.3, 20.9)\n",
    "# Drone at position(1.4, 19.5)\n",
    "# Drone at position(1.5, 18.0)\n",
    "# Drone at position(1.6, 16.4)\n",
    "# Drone at position(1.7, 14.7)\n",
    "# Drone at position(1.8, 13.0)\n",
    "# Drone at position(1.9, 11.1)\n",
    "# Drone at position(2.0, 9.1)\n",
    "# Drone at position(2.1, 7.0)\n",
    "# Drone at position(2.2, 4.9)\n",
    "# Drone at position(2.3, 2.6)\n",
    "# Drone at position(2.3, 0.2)\n",
    "\n",
    "# After 26 steps of 0.1 seconds (2.6 seconds), the drone has landed.\n",
    "# It has traveled a distance of 2.4 meters.\n",
    "# It has reached a maximum height of 30.0 meters."
   ]
  },
  {
   "cell_type": "code",
   "execution_count": 35,
   "metadata": {
    "tags": []
   },
   "outputs": [
    {
     "name": "stdout",
     "output_type": "stream",
     "text": [
      "Drone at position(0.0, 30.0)\n",
      "Drone at position(0.1, 30.0)\n",
      "Drone at position(0.2, 29.9)\n",
      "Drone at position(0.3, 29.7)\n",
      "Drone at position(0.4, 29.4)\n",
      "Drone at position(0.5, 28.9)\n",
      "Drone at position(0.6, 28.4)\n",
      "Drone at position(0.7, 27.8)\n",
      "Drone at position(0.8, 27.1)\n",
      "Drone at position(0.8, 26.3)\n",
      "Drone at position(0.9, 25.4)\n",
      "Drone at position(1.0, 24.4)\n",
      "Drone at position(1.1, 23.4)\n",
      "Drone at position(1.2, 22.2)\n",
      "Drone at position(1.3, 20.9)\n",
      "Drone at position(1.4, 19.5)\n",
      "Drone at position(1.5, 18.0)\n",
      "Drone at position(1.6, 16.4)\n",
      "Drone at position(1.7, 14.7)\n",
      "Drone at position(1.8, 13.0)\n",
      "Drone at position(1.9, 11.1)\n",
      "Drone at position(2.0, 9.1)\n",
      "Drone at position(2.1, 7.0)\n",
      "Drone at position(2.2, 4.9)\n",
      "Drone at position(2.3, 2.6)\n",
      "Drone at position(2.3, 0.2)\n",
      "\n",
      "After 26 steps of 0.1 seconds (2.6 seconds), the drone has landed.\n",
      "It has traveled a distance of 2.4 meters.\n",
      "It has reached a maximum height of 30.0 meters.\n"
     ]
    }
   ],
   "source": [
    "import math\n",
    "class Drone():\n",
    "    def __init__(self, height, velocity, angle_deg):\n",
    "        self.x = 0.0\n",
    "        self.y = height\n",
    "        angle_rad = math.radians(angle_deg)\n",
    "        self.vx = velocity * math.cos(angle_rad)  \n",
    "        self.vy = velocity * math.sin(angle_rad)\n",
    "\n",
    "    def get_pos_x(self):\n",
    "        return self.x\n",
    "\n",
    "    def get_pos_y(self):\n",
    "        return self.y\n",
    "\n",
    "    def update_position(self, t):\n",
    "        vy_new = self.vy - 9.8 * t\n",
    "        vm = (self.vy + vy_new) / 2\n",
    "        self.x += self.vx * t\n",
    "        self.y += vm * t\n",
    "        self.vy = vy_new\n",
    "\n",
    "def land(height, velocity, angle, step):\n",
    "    drone = Drone(height, velocity, angle)\n",
    "    max_height = drone.get_pos_y()\n",
    "    steps = 0\n",
    "    time = 0.0\n",
    "    while drone.get_pos_y() > 0:\n",
    "        print(f\"Drone at position({drone.get_pos_x():.1f}, {drone.get_pos_y():.1f})\")\n",
    "        drone.update_position(step)\n",
    "        time += step\n",
    "        steps += 1\n",
    "        if drone.get_pos_y() > max_height:\n",
    "            max_height = drone.get_pos_y()\n",
    "    return steps,step, time, drone.get_pos_x(), max_height\n",
    "steps,step, time, distance, max_height=land(30, 1, 20, 0.1)    \n",
    "print(f\"\\nAfter {steps} steps of {step} seconds ({time:.1f} seconds), the drone has landed.\")\n",
    "print(f\"It has traveled a distance of {distance:.1f} meters.\")\n",
    "print(f\"It has reached a maximum height of {max_height:.1f} meters.\")"
   ]
  },
  {
   "cell_type": "markdown",
   "metadata": {},
   "source": [
    "### Exercise 5\n",
    "\n",
    "Define a function called `matrix_operation` that receives an integer `n` as argument. The function should create a NumPy array (vector) with the integers within the interval $[n,n+25)$ and perform the following operations:\n",
    "\n",
    "+ Calculate the mean and standard deviation of the array and print it on the screen.\n",
    "+ Reshape the array into a 5x5 matrix, calculate the determinant of the matrix and print the result on the screen.\n",
    "+ Return a tuple with the three computed values `(mean, std, determinant)`."
   ]
  },
  {
   "cell_type": "raw",
   "metadata": {
    "vscode": {
     "languageId": "raw"
    }
   },
   "source": [
    "# Example\n",
    "\n",
    "# matrix_operation(1)\n",
    "# The mean and standard deviation of the vector is 13.0 +/- 7.211102550927978.\n",
    "# The determinant of the matrix is 0.0."
   ]
  },
  {
   "cell_type": "code",
   "execution_count": 58,
   "metadata": {},
   "outputs": [
    {
     "name": "stdout",
     "output_type": "stream",
     "text": [
      "The mean and standard deviation of the vector is 13.0 +/- 7.211102550927978.\n",
      "The determinant of the matrix is 0.0.\n"
     ]
    }
   ],
   "source": [
    "\n",
    "import numpy as np\n",
    "\n",
    "def matrix_operation(n):\n",
    "    arr = np.arange(n, n+25)           \n",
    "    mean = np.mean(arr)\n",
    "    std = np.std(arr)\n",
    "    print(f\"The mean and standard deviation of the vector is {mean} +/- {std}.\")\n",
    "    matrix = arr.reshape(5, 5)         \n",
    "    det = np.linalg.det(matrix)\n",
    "    print(f\"The determinant of the matrix is {det}.\")\n",
    "    return \n",
    "matrix_operation(1)"
   ]
  },
  {
   "cell_type": "markdown",
   "metadata": {},
   "source": [
    "### Exercise 6\n",
    "\n",
    "Create a function called `plot_functions` that makes a figure and plot the following functions over the range $[0, 10]$:\n",
    "\n",
    "+ $y_1 = sin(x)$\n",
    "+ $y_2 = cos(x)$\n",
    "\n",
    "The figure should also include appropriate labels, title, and a legend."
   ]
  },
  {
   "cell_type": "code",
   "execution_count": 55,
   "metadata": {},
   "outputs": [
    {
     "data": {
      "image/png": "[encoded data removed]",
      "text/plain": [
       "<Figure size 640x480 with 1 Axes>"
      ]
     },
     "metadata": {},
     "output_type": "display_data"
    }
   ],
   "source": [
    "import matplotlib.pyplot as plt\n",
    "import numpy as np\n",
    "def plot_functions():\n",
    "    x=np.linspace(0, 10, 100)\n",
    "    y1=np.sin(x)\n",
    "    y2=np.cos(x)   \n",
    "    plt.plot(x, y1, label='seno', color='blue')\n",
    "    plt.plot(x, y2,label='coseno', color='red')\n",
    "    plt.xlabel('time')\n",
    "    plt.ylabel('Amplitude')\n",
    "    plt.title('Sine and Cosine Functions')\n",
    "    plt.legend()\n",
    "    plt.show()\n",
    "plot_functions()\n",
    "\n",
    "    \n",
    "\n",
    "    "
   ]
  }
 ],
 "metadata": {
  "kernelspec": {
   "display_name": "Python 3",
   "language": "python",
   "name": "python3"
  },
  "language_info": {
   "codemirror_mode": {
    "name": "ipython",
    "version": 3
   },
   "file_extension": ".py",
   "mimetype": "text/x-python",
   "name": "python",
   "nbconvert_exporter": "python",
   "pygments_lexer": "ipython3",
   "version": "3.11.9"
  }
 },
 "nbformat": 4,
 "nbformat_minor": 4
}
